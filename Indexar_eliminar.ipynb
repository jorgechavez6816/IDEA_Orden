{
 "cells": [
  {
   "cell_type": "code",
   "execution_count": 26,
   "metadata": {},
   "outputs": [],
   "source": [
    "import win32com.client as win32ComClient\n",
    "\n",
    "if __name__ == \"__main__\":\n",
    "    try:\n",
    "        dbName = \"C:\\\\Users\\\\Intel\\\\Documents\\\\Mis documentos IDEA\\\\Samples\\\\Ejemplo-Detalle de ventas.IMD\"\n",
    "        idea = win32ComClient.Dispatch(dispatch=\"Idea.IdeaClient\")\n",
    "        db = idea.OpenDatabase(dbName)\n",
    "        task = db.Index()\n",
    "        task.AddKey(\"COD_PROD\",\"A\")\n",
    "        task.AddKey(\"NUM_CLI\", \"A\")\n",
    "        task.DeleteIndex()\n",
    "    finally:\n",
    "        task = None\n",
    "        db = None\n"
   ]
  },
  {
   "cell_type": "code",
   "execution_count": null,
   "metadata": {},
   "outputs": [],
   "source": [
    "Sub Main\n",
    "\tCall IndexDatabase()\t'Ejemplo-Detalle de ventas.IMD\n",
    "End Sub\n",
    "\n",
    "\n",
    "' Datos: Indexar base de datos\n",
    "Function IndexDatabase\n",
    "\tSet db = Client.OpenDatabase(\"Ejemplo-Detalle de ventas.IMD\")\n",
    "\tSet task = db.Index\n",
    "\ttask.AddKey \"FECHA_FACT\", \"A\"\n",
    "\ttask.DeleteIndex\n",
    "\tSet task = Nothing\n",
    "\tSet db = Nothing\n",
    "End Function"
   ]
  }
 ],
 "metadata": {
  "kernelspec": {
   "display_name": "Python 3",
   "language": "python",
   "name": "python3"
  },
  "language_info": {
   "codemirror_mode": {
    "name": "ipython",
    "version": 3
   },
   "file_extension": ".py",
   "mimetype": "text/x-python",
   "name": "python",
   "nbconvert_exporter": "python",
   "pygments_lexer": "ipython3",
   "version": "3.7.6"
  }
 },
 "nbformat": 4,
 "nbformat_minor": 4
}
